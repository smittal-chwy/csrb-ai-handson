{
 "cells": [
  {
   "cell_type": "code",
   "execution_count": null,
   "id": "43fbc4b6",
   "metadata": {},
   "outputs": [],
   "source": []
  },
  {
   "cell_type": "code",
   "execution_count": 1,
   "id": "6883bc67",
   "metadata": {},
   "outputs": [
    {
     "name": "stdout",
     "output_type": "stream",
     "text": [
      "Requirement already satisfied: openai in /Users/smittal/sandbox/csrb-ai-handson/venv/lib/python3.9/site-packages (1.108.0)\n",
      "Requirement already satisfied: python-dotenv in /Users/smittal/sandbox/csrb-ai-handson/venv/lib/python3.9/site-packages (1.1.1)\n",
      "Requirement already satisfied: anyio<5,>=3.5.0 in /Users/smittal/sandbox/csrb-ai-handson/venv/lib/python3.9/site-packages (from openai) (4.10.0)\n",
      "Requirement already satisfied: distro<2,>=1.7.0 in /Users/smittal/sandbox/csrb-ai-handson/venv/lib/python3.9/site-packages (from openai) (1.9.0)\n",
      "Requirement already satisfied: httpx<1,>=0.23.0 in /Users/smittal/sandbox/csrb-ai-handson/venv/lib/python3.9/site-packages (from openai) (0.28.1)\n",
      "Requirement already satisfied: jiter<1,>=0.4.0 in /Users/smittal/sandbox/csrb-ai-handson/venv/lib/python3.9/site-packages (from openai) (0.11.0)\n",
      "Requirement already satisfied: pydantic<3,>=1.9.0 in /Users/smittal/sandbox/csrb-ai-handson/venv/lib/python3.9/site-packages (from openai) (2.11.9)\n",
      "Requirement already satisfied: sniffio in /Users/smittal/sandbox/csrb-ai-handson/venv/lib/python3.9/site-packages (from openai) (1.3.1)\n",
      "Requirement already satisfied: tqdm>4 in /Users/smittal/sandbox/csrb-ai-handson/venv/lib/python3.9/site-packages (from openai) (4.67.1)\n",
      "Requirement already satisfied: typing-extensions<5,>=4.11 in /Users/smittal/sandbox/csrb-ai-handson/venv/lib/python3.9/site-packages (from openai) (4.15.0)\n",
      "Requirement already satisfied: exceptiongroup>=1.0.2 in /Users/smittal/sandbox/csrb-ai-handson/venv/lib/python3.9/site-packages (from anyio<5,>=3.5.0->openai) (1.3.0)\n",
      "Requirement already satisfied: idna>=2.8 in /Users/smittal/sandbox/csrb-ai-handson/venv/lib/python3.9/site-packages (from anyio<5,>=3.5.0->openai) (3.10)\n",
      "Requirement already satisfied: certifi in /Users/smittal/sandbox/csrb-ai-handson/venv/lib/python3.9/site-packages (from httpx<1,>=0.23.0->openai) (2025.8.3)\n",
      "Requirement already satisfied: httpcore==1.* in /Users/smittal/sandbox/csrb-ai-handson/venv/lib/python3.9/site-packages (from httpx<1,>=0.23.0->openai) (1.0.9)\n",
      "Requirement already satisfied: h11>=0.16 in /Users/smittal/sandbox/csrb-ai-handson/venv/lib/python3.9/site-packages (from httpcore==1.*->httpx<1,>=0.23.0->openai) (0.16.0)\n",
      "Requirement already satisfied: annotated-types>=0.6.0 in /Users/smittal/sandbox/csrb-ai-handson/venv/lib/python3.9/site-packages (from pydantic<3,>=1.9.0->openai) (0.7.0)\n",
      "Requirement already satisfied: pydantic-core==2.33.2 in /Users/smittal/sandbox/csrb-ai-handson/venv/lib/python3.9/site-packages (from pydantic<3,>=1.9.0->openai) (2.33.2)\n",
      "Requirement already satisfied: typing-inspection>=0.4.0 in /Users/smittal/sandbox/csrb-ai-handson/venv/lib/python3.9/site-packages (from pydantic<3,>=1.9.0->openai) (0.4.1)\n"
     ]
    }
   ],
   "source": [
    "!pip install openai python-dotenv"
   ]
  },
  {
   "cell_type": "code",
   "execution_count": 2,
   "id": "a5a45a0d",
   "metadata": {},
   "outputs": [],
   "source": [
    "import os\n",
    "from dotenv import load_dotenv\n",
    "from openai import OpenAI"
   ]
  },
  {
   "cell_type": "code",
   "execution_count": 7,
   "id": "33a706e4",
   "metadata": {},
   "outputs": [
    {
     "data": {
      "text/plain": [
       "' get from env:\\nclient = OpenAI(api_key=os.getenv(\"OPENAI_API_KEY\"))\\n'"
      ]
     },
     "execution_count": 7,
     "metadata": {},
     "output_type": "execute_result"
    }
   ],
   "source": [
    "OPENAI_API_KEY=\"sk-\"\n",
    "\n",
    "client = OpenAI(api_key=OPENAI_API_KEY)\n",
    "\n",
    "\"\"\" get from env:\n",
    "client = OpenAI(api_key=os.getenv(\"OPENAI_API_KEY\"))\n",
    "\"\"\"\n",
    "\n"
   ]
  },
  {
   "cell_type": "code",
   "execution_count": null,
   "id": "87e1f5a4",
   "metadata": {},
   "outputs": [
    {
     "name": "stdout",
     "output_type": "stream",
     "text": [
      "Sure! Here’s a detailed description of the anime **One Piece**, including its plot and key characters in a formatted bulleted list:\n",
      "\n",
      "### One Piece Overview\n",
      "- **Genre**: Action, Adventure, Fantasy, Comedy, Drama\n",
      "- **Created by**: Eiichiro Oda\n",
      "- **Original Run**: Since July 22, 1997 (manga) and October 20, 1999 (anime)\n",
      "- **Episodes**: Over 1000 (as of October 2023)\n",
      "\n",
      "### Plot Summary\n",
      "- **Setting**: A vast world of oceans, islands, and diverse cultures, where pirates roam free and the Grand Line—a dangerous sea route—holds countless treasures.\n",
      "- **Premise**: The story follows Monkey D. Luffy, a young pirate with the ability to stretch his body like rubber after eating a Devil Fruit. Luffy dreams of finding the ultimate treasure known as the One Piece and becoming the Pirate King.\n",
      "- **Main Quest**: Luffy sets out on a journey to explore the Grand Line, gather a diverse crew known as the Straw Hat Pirates, and discover the secrets of the One Piece.\n",
      "\n",
      "### Main Characters\n",
      "- **Monkey D. Luffy**: \n",
      "  - **Role**: Protagonist and captain of the Straw Hat Pirates.\n",
      "  - **Traits**: Optimistic, carefree, and fiercely loyal. Wields the power of the Gum-Gum Fruit (a Paramecia-type Devil Fruit) that grants him rubber-like abilities.\n",
      "  \n",
      "- **Roronoa Zoro**: \n",
      "  - **Role**: The crew’s swordsman and Luffy's first mate.\n",
      "  - **Traits**: Determined, strong, and seeks to be the world's greatest swordsman. Uses a unique three-sword fighting style called Santoryu.\n",
      "  \n",
      "- **Nami**: \n",
      "  - **Role**: The crew’s navigator.\n",
      "  - **Traits**: Intelligent, resourceful, and skilled in cartography and navigation. Initially motivated by treasure, her ultimate goal is to create a complete map of the world.\n",
      "  \n",
      "- **Usopp**: \n",
      "  - **Role**: The crew's sharpshooter and storyteller.\n",
      "  - **Traits**: Inventive, cowardly yet brave when it counts, and dreams of becoming a brave warrior of the sea like his father.\n",
      "  \n",
      "- **Sanji**: \n",
      "  - **Role**: The crew's cook and a skilled fighter.\n",
      "  - **Traits**: Chivalrous, romantic, and has a strong desire to find the All Blue, a legendary sea with fish from all oceans.\n",
      "  \n",
      "- **Tony Tony Chopper**: \n",
      "  - **Role**: The crew’s doctor.\n",
      "  - **Traits**: A reindeer who gained the ability to transform into a human after eating the Human-Human Fruit. He is kind-hearted and dreams of being a doctor that can cure any disease.\n",
      "  \n",
      "- **Nico Robin**: \n",
      "  - **Role**: The archaeologist of the crew.\n",
      "  - **Traits**: Intelligent, reserved, and has a tragic past. She possesses the powers of the Flower-Flower Fruit, allowing her to sprout body parts from anywhere.\n",
      "  \n",
      "- **Franky**: \n",
      "  - **Role**: The shipwright of the crew.\n",
      "  - **Traits**: A cyborg with a flamboyant personality, he dreams of building and sailing a ship that can circle the globe.\n",
      "  \n",
      "- **Brook**: \n",
      "  - **Role**: The musician of the crew.\n",
      "  - **Traits**: A living skeleton who came back to life due to the Revive-Revive Fruit. He possesses a jovial attitude and swordsman skills.\n",
      "  \n",
      "- **Jimbei**: \n",
      "  - **Role**: The helmsman of the crew (later addition).\n",
      "  - **Traits**: A fish-man with a strong sense of honor and duty, he is a master of Fish-Man Karate.\n",
      "\n",
      "### Themes\n",
      "- **Friendship and Loyalty**: The bond between crew members is central to the story, emphasizing themes of friendship.\n",
      "- **Dreams and Aspirations**: Each character has personal dreams they strive to achieve throughout their journey.\n",
      "- **Adventure and Perseverance**: The characters encounter various challenges and adversaries, highlighting the importance of perseverance.\n",
      "\n",
      "### Notable Antagonists\n",
      "- **Marine Admirals**: High-ranking officers of the World Government, they serve as powerful adversaries.\n",
      "- **Shichibukai (Warlords of the Sea)**: Renegade pirates allied with the World Government, each with their own ambitions.\n",
      "- **Yonko (Four Emperors)**: The most powerful pirates in the world, each ruling over vast territories in the New World.\n",
      "\n",
      "### Conclusion\n",
      "One Piece is a richly woven tale celebrated for its expansive world-building, character development, and intricate storytelling. The quest for the One Piece symbolizes the pursuit of dreams and the bonds formed along the way, making it a beloved series in the anime and manga community.\n"
     ]
    }
   ],
   "source": [
    "\n",
    "# Send a Chat Request\n",
    "response = client.chat.completions.create(\n",
    "    model=\"gpt-4o-mini\",\n",
    "    messages=[\n",
    "        {\"role\": \"system\", \"content\": \"You are Chewy Rosie, a helpful AI assistant.\"},\n",
    "        {\"role\": \"user\", \"content\": \"A good detailed description on an anime `one piece` with proper plot and characters in a fomatted bulleted list\"}\n",
    "    ]\n",
    ")\n",
    "\n",
    "# Print Response\n",
    "print(response.choices[0].message.content)"
   ]
  },
  {
   "cell_type": "markdown",
   "id": "e23eb1bf",
   "metadata": {},
   "source": [
    "## Other OpenAI Models to Highlight\n",
    "| Model                          | Use Case                                              |\n",
    "| ------------------------------ | ----------------------------------------------------- |\n",
    "| **`gpt-4o`**                   | Most powerful multimodal model (text, vision, audio). |\n",
    "| **`gpt-4o-mini`**              | Cheaper, faster version of GPT-4o.                    |\n",
    "| **`gpt-3.5-turbo`**            | Lightweight text-only chat model.                     |\n",
    "| **`text-embedding-3-small`**   | Embeddings for RAG.                                   |\n",
    "| **`text-embedding-3-large`**   | Higher-quality embeddings.                            |\n",
    "| **`gpt-4.1` / `gpt-4.1-mini`** | Experimental, faster/cheaper GPT-4 tier.              |\n"
   ]
  }
 ],
 "metadata": {
  "kernelspec": {
   "display_name": "venv",
   "language": "python",
   "name": "python3"
  },
  "language_info": {
   "codemirror_mode": {
    "name": "ipython",
    "version": 3
   },
   "file_extension": ".py",
   "mimetype": "text/x-python",
   "name": "python",
   "nbconvert_exporter": "python",
   "pygments_lexer": "ipython3",
   "version": "3.9.6"
  }
 },
 "nbformat": 4,
 "nbformat_minor": 5
}
