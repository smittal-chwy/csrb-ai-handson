{
 "cells": [
  {
   "cell_type": "code",
   "execution_count": 4,
   "id": "7cc94ba8",
   "metadata": {},
   "outputs": [
    {
     "name": "stdout",
     "output_type": "stream",
     "text": [
      "Requirement already satisfied: openai in /Users/smittal/sandbox/csrb-ai-handson/venv/lib/python3.9/site-packages (1.108.0)\n",
      "Requirement already satisfied: fastapi in /Users/smittal/sandbox/csrb-ai-handson/venv/lib/python3.9/site-packages (0.116.2)\n",
      "Requirement already satisfied: uvicorn in /Users/smittal/sandbox/csrb-ai-handson/venv/lib/python3.9/site-packages (0.35.0)\n",
      "Requirement already satisfied: anyio<5,>=3.5.0 in /Users/smittal/sandbox/csrb-ai-handson/venv/lib/python3.9/site-packages (from openai) (4.10.0)\n",
      "Requirement already satisfied: distro<2,>=1.7.0 in /Users/smittal/sandbox/csrb-ai-handson/venv/lib/python3.9/site-packages (from openai) (1.9.0)\n",
      "Requirement already satisfied: httpx<1,>=0.23.0 in /Users/smittal/sandbox/csrb-ai-handson/venv/lib/python3.9/site-packages (from openai) (0.28.1)\n",
      "Requirement already satisfied: jiter<1,>=0.4.0 in /Users/smittal/sandbox/csrb-ai-handson/venv/lib/python3.9/site-packages (from openai) (0.11.0)\n",
      "Requirement already satisfied: pydantic<3,>=1.9.0 in /Users/smittal/sandbox/csrb-ai-handson/venv/lib/python3.9/site-packages (from openai) (2.11.9)\n",
      "Requirement already satisfied: sniffio in /Users/smittal/sandbox/csrb-ai-handson/venv/lib/python3.9/site-packages (from openai) (1.3.1)\n",
      "Requirement already satisfied: tqdm>4 in /Users/smittal/sandbox/csrb-ai-handson/venv/lib/python3.9/site-packages (from openai) (4.67.1)\n",
      "Requirement already satisfied: typing-extensions<5,>=4.11 in /Users/smittal/sandbox/csrb-ai-handson/venv/lib/python3.9/site-packages (from openai) (4.15.0)\n",
      "Requirement already satisfied: exceptiongroup>=1.0.2 in /Users/smittal/sandbox/csrb-ai-handson/venv/lib/python3.9/site-packages (from anyio<5,>=3.5.0->openai) (1.3.0)\n",
      "Requirement already satisfied: idna>=2.8 in /Users/smittal/sandbox/csrb-ai-handson/venv/lib/python3.9/site-packages (from anyio<5,>=3.5.0->openai) (3.10)\n",
      "Requirement already satisfied: certifi in /Users/smittal/sandbox/csrb-ai-handson/venv/lib/python3.9/site-packages (from httpx<1,>=0.23.0->openai) (2025.8.3)\n",
      "Requirement already satisfied: httpcore==1.* in /Users/smittal/sandbox/csrb-ai-handson/venv/lib/python3.9/site-packages (from httpx<1,>=0.23.0->openai) (1.0.9)\n",
      "Requirement already satisfied: h11>=0.16 in /Users/smittal/sandbox/csrb-ai-handson/venv/lib/python3.9/site-packages (from httpcore==1.*->httpx<1,>=0.23.0->openai) (0.16.0)\n",
      "Requirement already satisfied: annotated-types>=0.6.0 in /Users/smittal/sandbox/csrb-ai-handson/venv/lib/python3.9/site-packages (from pydantic<3,>=1.9.0->openai) (0.7.0)\n",
      "Requirement already satisfied: pydantic-core==2.33.2 in /Users/smittal/sandbox/csrb-ai-handson/venv/lib/python3.9/site-packages (from pydantic<3,>=1.9.0->openai) (2.33.2)\n",
      "Requirement already satisfied: typing-inspection>=0.4.0 in /Users/smittal/sandbox/csrb-ai-handson/venv/lib/python3.9/site-packages (from pydantic<3,>=1.9.0->openai) (0.4.1)\n",
      "Requirement already satisfied: starlette<0.49.0,>=0.40.0 in /Users/smittal/sandbox/csrb-ai-handson/venv/lib/python3.9/site-packages (from fastapi) (0.48.0)\n",
      "Requirement already satisfied: click>=7.0 in /Users/smittal/sandbox/csrb-ai-handson/venv/lib/python3.9/site-packages (from uvicorn) (8.1.8)\n"
     ]
    }
   ],
   "source": [
    "!pip install openai fastapi uvicorn\n"
   ]
  },
  {
   "cell_type": "code",
   "execution_count": 8,
   "id": "aba81212",
   "metadata": {},
   "outputs": [
    {
     "name": "stdout",
     "output_type": "stream",
     "text": [
      "\u001b[31mERROR: Ignored the following versions that require a different python version: 0.9.1 Requires-Python >=3.10; 1.0.0 Requires-Python >=3.10; 1.1.0 Requires-Python >=3.10; 1.1.1 Requires-Python >=3.10; 1.1.2 Requires-Python >=3.10; 1.1.3 Requires-Python >=3.10; 1.10.0 Requires-Python >=3.10; 1.10.1 Requires-Python >=3.10; 1.11.0 Requires-Python >=3.10; 1.12.0 Requires-Python >=3.10; 1.12.1 Requires-Python >=3.10; 1.12.2 Requires-Python >=3.10; 1.12.3 Requires-Python >=3.10; 1.12.4 Requires-Python >=3.10; 1.13.0 Requires-Python >=3.10; 1.13.1 Requires-Python >=3.10; 1.14.0 Requires-Python >=3.10; 1.14.1 Requires-Python >=3.10; 1.15.0 Requires-Python >=3.10; 1.16.0 Requires-Python >=3.10; 1.2.0 Requires-Python >=3.10; 1.2.0rc1 Requires-Python >=3.10; 1.2.1 Requires-Python >=3.10; 1.3.0 Requires-Python >=3.10; 1.3.0rc1 Requires-Python >=3.10; 1.4.0 Requires-Python >=3.10; 1.4.1 Requires-Python >=3.10; 1.5.0 Requires-Python >=3.10; 1.6.0 Requires-Python >=3.10; 1.7.0 Requires-Python >=3.10; 1.7.1 Requires-Python >=3.10; 1.8.0 Requires-Python >=3.10; 1.8.1 Requires-Python >=3.10; 1.9.0 Requires-Python >=3.10; 1.9.1 Requires-Python >=3.10; 1.9.2 Requires-Python >=3.10; 1.9.3 Requires-Python >=3.10; 1.9.4 Requires-Python >=3.10\u001b[0m\u001b[31m\n",
      "\u001b[0m\u001b[31mERROR: Could not find a version that satisfies the requirement mcp[cli] (from versions: none)\u001b[0m\u001b[31m\n",
      "\u001b[0m\u001b[31mERROR: No matching distribution found for mcp[cli]\u001b[0m\u001b[31m\n",
      "\u001b[0m"
     ]
    }
   ],
   "source": [
    "!pip3 install \"mcp[cli]\" --upgrade\n"
   ]
  },
  {
   "cell_type": "code",
   "execution_count": 2,
   "id": "0b119f0b",
   "metadata": {},
   "outputs": [
    {
     "ename": "ModuleNotFoundError",
     "evalue": "No module named 'mcp'",
     "output_type": "error",
     "traceback": [
      "\u001b[0;31m---------------------------------------------------------------------------\u001b[0m",
      "\u001b[0;31mModuleNotFoundError\u001b[0m                       Traceback (most recent call last)",
      "Cell \u001b[0;32mIn[2], line 1\u001b[0m\n\u001b[0;32m----> 1\u001b[0m \u001b[38;5;28;01mimport\u001b[39;00m\u001b[38;5;250m \u001b[39m\u001b[38;5;21;01mmcp\u001b[39;00m\u001b[38;5;241m,\u001b[39m\u001b[38;5;250m \u001b[39m\u001b[38;5;21;01mfastapi\u001b[39;00m\u001b[38;5;241m,\u001b[39m\u001b[38;5;250m \u001b[39m\u001b[38;5;21;01muvicorn\u001b[39;00m\u001b[38;5;241m,\u001b[39m\u001b[38;5;250m \u001b[39m\u001b[38;5;21;01mopenai\u001b[39;00m\n\u001b[1;32m      2\u001b[0m \u001b[38;5;28mprint\u001b[39m(\u001b[38;5;124m\"\u001b[39m\u001b[38;5;124m✅ All MCP-related packages imported successfully!\u001b[39m\u001b[38;5;124m\"\u001b[39m)\n",
      "\u001b[0;31mModuleNotFoundError\u001b[0m: No module named 'mcp'"
     ]
    }
   ],
   "source": [
    "import mcp, fastapi, uvicorn, openai\n",
    "print(\"✅ All MCP-related packages imported successfully!\")\n"
   ]
  },
  {
   "cell_type": "code",
   "execution_count": null,
   "id": "f21fd716",
   "metadata": {},
   "outputs": [],
   "source": [
    "# mcp_server.py\n",
    "from mcp.server.fastapi import MCPServer\n",
    "from fastapi import FastAPI\n",
    "\n",
    "app = FastAPI()\n",
    "server = MCPServer(app)\n",
    "\n",
    "@server.command(\"get_product_info\")\n",
    "async def get_product_info(product_id: str):\n",
    "    return {\"product_id\": product_id, \"name\": \"Chewy Dog Toy\", \"price\": 9.99}\n",
    "\n",
    "server.run()\n"
   ]
  },
  {
   "cell_type": "code",
   "execution_count": null,
   "id": "2abbbd60",
   "metadata": {},
   "outputs": [],
   "source": [
    "uvicorn mcp_server:app --port 8000\n"
   ]
  },
  {
   "cell_type": "code",
   "execution_count": null,
   "id": "94182ac9",
   "metadata": {},
   "outputs": [],
   "source": []
  },
  {
   "cell_type": "code",
   "execution_count": null,
   "id": "a5e9245f",
   "metadata": {},
   "outputs": [],
   "source": [
    "from mcp.client import MCPClient\n",
    "\n",
    "async def test_client():\n",
    "    client = MCPClient(\"http://localhost:8000\")\n",
    "    response = await client.command(\"get_product_info\", {\"product_id\": \"DOG123\"})\n",
    "    print(\"MCP Response:\", response)\n",
    "\n",
    "import asyncio\n",
    "asyncio.run(test_client())\n"
   ]
  },
  {
   "cell_type": "code",
   "execution_count": null,
   "id": "2a2ae637",
   "metadata": {},
   "outputs": [],
   "source": []
  },
  {
   "cell_type": "code",
   "execution_count": null,
   "id": "97fa5052",
   "metadata": {},
   "outputs": [],
   "source": []
  },
  {
   "cell_type": "code",
   "execution_count": null,
   "id": "0760bc14",
   "metadata": {},
   "outputs": [],
   "source": [
    "from openai import OpenAI\n",
    "import asyncio\n",
    "\n",
    "client = OpenAI()\n",
    "\n",
    "async def ask_llm(product_id):\n",
    "    mcp_client = MCPClient(\"http://localhost:8000\")\n",
    "    product_info = await mcp_client.command(\"get_product_info\", {\"product_id\": product_id})\n",
    "    prompt = f\"Summarize this product info for a user-friendly description:\\n{product_info}\"\n",
    "\n",
    "    response = client.chat.completions.create(\n",
    "        model=\"gpt-4o-mini\",\n",
    "        messages=[{\"role\": \"user\", \"content\": prompt}]\n",
    "    )\n",
    "    print(response.choices[0].message.content)\n",
    "\n",
    "asyncio.run(ask_llm(\"DOG123\"))\n"
   ]
  }
 ],
 "metadata": {
  "kernelspec": {
   "display_name": "venv",
   "language": "python",
   "name": "python3"
  },
  "language_info": {
   "codemirror_mode": {
    "name": "ipython",
    "version": 3
   },
   "file_extension": ".py",
   "mimetype": "text/x-python",
   "name": "python",
   "nbconvert_exporter": "python",
   "pygments_lexer": "ipython3",
   "version": "3.9.6"
  }
 },
 "nbformat": 4,
 "nbformat_minor": 5
}
