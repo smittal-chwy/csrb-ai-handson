{
 "cells": [
  {
   "cell_type": "markdown",
   "id": "2d9d710e",
   "metadata": {},
   "source": [
    "# Summary\n",
    " - Index: Add trusted docs to Chroma (ETL pipeline).\n",
    " - Retrieve: Query for relevant context.\n",
    " - Generate: Feed context into an LLM for final customer-facing response.\n",
    "\n",
    "- This is the core pattern for a simple RAG (powered by embeddings + retrieval).\n",
    "- Evaluations are next mandotory step"
   ]
  },
  {
   "cell_type": "code",
   "execution_count": null,
   "id": "3c93e0f7",
   "metadata": {},
   "outputs": [],
   "source": [
    "!pip install chromadb openai python-dotenv"
   ]
  },
  {
   "cell_type": "code",
   "execution_count": 1,
   "id": "765683da",
   "metadata": {},
   "outputs": [],
   "source": [
    "import os\n",
    "from dotenv import load_dotenv\n",
    "import chromadb\n",
    "from chromadb.utils import embedding_functions\n",
    "from openai import OpenAI"
   ]
  },
  {
   "cell_type": "code",
   "execution_count": 30,
   "id": "e75dc004",
   "metadata": {},
   "outputs": [],
   "source": [
    "\n",
    "\n",
    "\n",
    "OPENAI_API_KEY=\"sk-\"\n",
    "client = OpenAI(api_key=OPENAI_API_KEY)\n",
    "\n",
    "# or Load env vars"
   ]
  },
  {
   "cell_type": "code",
   "execution_count": 16,
   "id": "0b6a33bc",
   "metadata": {},
   "outputs": [],
   "source": [
    "\n",
    "\n",
    "# Setup Chroma\n",
    "chroma_client = chromadb.Client()\n"
   ]
  },
  {
   "cell_type": "code",
   "execution_count": 17,
   "id": "e9f18275",
   "metadata": {},
   "outputs": [
    {
     "data": {
      "text/plain": [
       "'To load from env:\\nembedder = embedding_functions.OpenAIEmbeddingFunction(\\n    api_key=os.getenv(\"OPENAI_API_KEY\"),\\n    model_name=\"text-embedding-3-small\"\\n)\\n'"
      ]
     },
     "execution_count": 17,
     "metadata": {},
     "output_type": "execute_result"
    }
   ],
   "source": [
    "\n",
    "\n",
    "embedder = embedding_functions.OpenAIEmbeddingFunction(\n",
    "    api_key=OPENAI_API_KEY,\n",
    "    model_name=\"text-embedding-3-small\"\n",
    ")\n",
    "\n",
    "\"\"\"To load from env:\n",
    "embedder = embedding_functions.OpenAIEmbeddingFunction(\n",
    "    api_key=os.getenv(\"OPENAI_API_KEY\"),\n",
    "    model_name=\"text-embedding-3-small\"\n",
    ")\n",
    "\"\"\""
   ]
  },
  {
   "cell_type": "code",
   "execution_count": null,
   "id": "f4e908be",
   "metadata": {},
   "outputs": [],
   "source": [
    "# Delete if it already exists\n",
    "# chroma_client.delete_collection(\"docs\")\n"
   ]
  },
  {
   "cell_type": "code",
   "execution_count": 20,
   "id": "3ddfd206",
   "metadata": {},
   "outputs": [],
   "source": [
    "\n",
    "collection = chroma_client.create_collection(\n",
    "    name=\"docs\",\n",
    "    embedding_function=embedder   # <--- IMPORTANT, Use the Same Embedder\n",
    ")"
   ]
  },
  {
   "cell_type": "code",
   "execution_count": 21,
   "id": "3cb7b298",
   "metadata": {},
   "outputs": [],
   "source": [
    "\n",
    "# Add sample docs for example:\n",
    "docs = [\n",
    "    \"Autoship saves you time by shipping your pet’s food automatically.\",\n",
    "    \"Chewy Pharmacy helps manage pet prescriptions with vet approval.\"\n",
    "]\n",
    "embeddings = embedder(docs)  # returns a list of embeddings\n",
    "\n"
   ]
  },
  {
   "cell_type": "code",
   "execution_count": 22,
   "id": "b7edd3ef",
   "metadata": {},
   "outputs": [
    {
     "name": "stdout",
     "output_type": "stream",
     "text": [
      "✅ Docs added successfully!\n"
     ]
    }
   ],
   "source": [
    "collection.add(\n",
    "    documents=docs,\n",
    "    ids=[\"1\", \"2\"],\n",
    "    embeddings=embeddings\n",
    ")\n",
    "print(\"✅ Docs added successfully!\")"
   ]
  },
  {
   "cell_type": "markdown",
   "id": "e0189333",
   "metadata": {},
   "source": [
    "### Option 1\n",
    " - Pass query as query_texts (simplest)\n",
    " - Let Chroma handle embeddings internally:"
   ]
  },
  {
   "cell_type": "code",
   "execution_count": 31,
   "id": "9a4be173",
   "metadata": {},
   "outputs": [
    {
     "name": "stdout",
     "output_type": "stream",
     "text": [
      "Chewy Pharmacy helps manage pet prescriptions with vet approval.\n"
     ]
    }
   ],
   "source": [
    "# Query\n",
    "query = \"How does Chewy help with prescriptions?\"\n",
    "results = collection.query(query_texts=[query], n_results=1) # n_results=1 means we fetch the top match.\n",
    "print(results[\"documents\"][0][0])\n",
    "\n"
   ]
  },
  {
   "cell_type": "markdown",
   "id": "7efe8726",
   "metadata": {},
   "source": [
    "### Option 2 \n",
    " - If you want to embed manually\n",
    " - Make sure you flatten the result properly:"
   ]
  },
  {
   "cell_type": "code",
   "execution_count": null,
   "id": "4c4c3999",
   "metadata": {},
   "outputs": [
    {
     "name": "stdout",
     "output_type": "stream",
     "text": [
      "Chewy Pharmacy helps manage pet prescriptions with vet approval.\n"
     ]
    }
   ],
   "source": [
    "query_embedding = embedder([query])  # returns a list with one embedding\n",
    "results = collection.query(query_embeddings=query_embedding, n_results=1) # n_results=1 means we fetch the top match.\n",
    "\n",
    "print(results[\"documents\"][0][0])\n"
   ]
  },
  {
   "cell_type": "code",
   "execution_count": 28,
   "id": "e40d104d",
   "metadata": {},
   "outputs": [
    {
     "name": "stdout",
     "output_type": "stream",
     "text": [
      "- Chewy Pharmacy fills pet prescriptions.\n",
      "- Requires approval from your veterinarian.\n",
      "- Easy online ordering through their website or app.\n",
      "- Offers a range of medications for pets.\n",
      "- Can deliver prescriptions straight to your home.\n",
      "- Provides reminders for when to refill prescriptions.\n",
      "- Customer support is available for any questions.\n",
      "- Often offers competitive pricing on pet medications.\n"
     ]
    }
   ],
   "source": [
    "context = results[\"documents\"][0][0]\n",
    "rag_prompt = f\"Keep answer in bulleted list format. in simple language. Context: {context}\\n\\nQuestion: {query}\\nAnswer:\"\n",
    "\n",
    "resp = client.chat.completions.create(\n",
    "    model=\"gpt-4o-mini\",\n",
    "    messages=[{\"role\": \"user\", \"content\": rag_prompt}]\n",
    ")\n",
    "\n",
    "print(resp.choices[0].message.content)"
   ]
  }
 ],
 "metadata": {
  "kernelspec": {
   "display_name": "venv",
   "language": "python",
   "name": "python3"
  },
  "language_info": {
   "codemirror_mode": {
    "name": "ipython",
    "version": 3
   },
   "file_extension": ".py",
   "mimetype": "text/x-python",
   "name": "python",
   "nbconvert_exporter": "python",
   "pygments_lexer": "ipython3",
   "version": "3.9.6"
  }
 },
 "nbformat": 4,
 "nbformat_minor": 5
}
